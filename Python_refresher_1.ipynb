{
  "nbformat": 4,
  "nbformat_minor": 0,
  "metadata": {
    "colab": {
      "provenance": [],
      "authorship_tag": "ABX9TyNfROVitV7Ej9k3xWkhC5ZL",
      "include_colab_link": true
    },
    "kernelspec": {
      "name": "python3",
      "display_name": "Python 3"
    },
    "language_info": {
      "name": "python"
    }
  },
  "cells": [
    {
      "cell_type": "markdown",
      "metadata": {
        "id": "view-in-github",
        "colab_type": "text"
      },
      "source": [
        "<a href=\"https://colab.research.google.com/github/pallavrouth/MarketingAnalytics/blob/main/Python_refresher_1.ipynb\" target=\"_parent\"><img src=\"https://colab.research.google.com/assets/colab-badge.svg\" alt=\"Open In Colab\"/></a>"
      ]
    },
    {
      "cell_type": "markdown",
      "source": [
        "# Variables\n",
        "\n",
        "a variable is a symbolic name or identifier that is used to store data. It acts as a reference to a memory location where a value is stored. You can think of a variable as a container that holds a value, which can be of various data types, such as numbers, strings, lists, or even more complex objects.\n",
        "\n",
        "Key features -\n",
        "\n",
        "- Naming Rules:\n",
        "  - They must start with a letter (a-z, A-Z) or an underscore `_`.\n",
        "  - They can contain letters, digits (0-9), and underscores.\n",
        "  - Variable names are case-sensitive (myVariable and myvariable are considered different names).\n",
        "\n",
        "- Assignment: You assign a value to a variable using the assignment operator `=`. The value on the right is stored in the variable on the left.\n",
        "\n",
        "- Reassignment: You can change the value of a variable by assigning a new value to it."
      ],
      "metadata": {
        "id": "vnu_ckvezWdu"
      }
    },
    {
      "cell_type": "markdown",
      "source": [
        "Some examples of invalid variable names\n",
        "- `first-name`\n",
        "- `first@name`  \n",
        "- `first$name`  \n",
        "- `num-1`  \n",
        "- `1num`\n"
      ],
      "metadata": {
        "id": "Kgt9kEX33Zfc"
      }
    },
    {
      "cell_type": "markdown",
      "source": [
        "We will use standard Python variable naming style which has been adopted by many Python developers. Python developers use snake case (snake_case) variable naming convention. We use underscore character after each word for a variable containing more than one word(eg. marketing_campaign, engagement_metric). The example below is an example of standard naming of variables, underscore is required when the variable name is more than one word."
      ],
      "metadata": {
        "id": "AA7cHG4T0GoS"
      }
    },
    {
      "cell_type": "markdown",
      "source": [
        "When we assign a certain data type to a variable, it is called variable declaration. For instance in the example below my first name is assigned to a variable first_name. The equal sign is an assignment operator. Assigning means storing data in the variable. The equal sign in Python is not equality as in Mathematics."
      ],
      "metadata": {
        "id": "dpwCcpK40M3n"
      }
    },
    {
      "cell_type": "code",
      "source": [
        "first_name = 'Pallav'\n",
        "last_name = 'Routh'\n",
        "city = 'Milwaukee'\n",
        "state = 'Wisconsin'\n",
        "age = 25\n",
        "height = 170\n",
        "# Declaring multiple variables\n",
        "first_name, last_name, city, state, age, height = 'Pallav', 'Routh', 'Milwaukee', 'Wisconsin', 25, 170"
      ],
      "metadata": {
        "id": "3fenLQ2U0H3Y"
      },
      "execution_count": null,
      "outputs": []
    },
    {
      "cell_type": "markdown",
      "source": [
        "# Built in functions\n",
        "\n",
        "Built-in functions in Python are pre-defined functions that are available for use without the need to import any external modules.\n",
        "\n",
        "These functions are an essential part of the Python programming language and provide a wide range of functionalities for performing common tasks. Built-in functions cover various areas such as data conversion, mathematical operations, string manipulation, list manipulation, input/output operations, and more.\n",
        "\n",
        "We will use these built in functions through the course: Some common ones are `print()` for printing and `len()` for checking the length of python objects.\n",
        "\n",
        "Here is a complete list - https://docs.python.org/3/library/functions.html"
      ],
      "metadata": {
        "id": "5-4vt3_P01iT"
      }
    },
    {
      "cell_type": "markdown",
      "source": [
        "### Built in functions on variables"
      ],
      "metadata": {
        "id": "9_6UWZDJ1PhF"
      }
    },
    {
      "cell_type": "code",
      "source": [
        "print(first_name)\n",
        "print(len(last_name))"
      ],
      "metadata": {
        "id": "i5RelBZI1OY7"
      },
      "execution_count": null,
      "outputs": []
    },
    {
      "cell_type": "markdown",
      "source": [
        "### Print function"
      ],
      "metadata": {
        "id": "wpymjfOS2YWh"
      }
    },
    {
      "cell_type": "code",
      "source": [
        "print('First name:', first_name)\n",
        "print('Last name: ', last_name)\n",
        "print('City: ', city)\n",
        "print('Age: ', age)\n",
        "print('Height: ', height)"
      ],
      "metadata": {
        "id": "jOg-o3pE1pQa"
      },
      "execution_count": null,
      "outputs": []
    },
    {
      "cell_type": "markdown",
      "source": [
        "# Data types\n"
      ],
      "metadata": {
        "id": "4v7aBV5O30-i"
      }
    },
    {
      "cell_type": "markdown",
      "source": [
        "In Python, data types specify the type of value that a variable can hold. Each value in Python has a corresponding data type that defines the type of operations that can be performed on it and the memory layout used to store it. Python is a dynamically typed language, meaning you don't need to explicitly declare the data type of a variable; the interpreter infers it based on the value assigned to the variable.\n",
        "\n",
        "1. Numeric Types:\n",
        "  - int: Integer type, representing whole numbers.\n",
        "  - float: Floating-point type, representing decimal numbers.\n",
        "2. Text Type:\n",
        "  - str: String type, representing sequences of characters (text).\n",
        "3. Sequence Types:\n",
        "  - list: Ordered collection of elements, mutable.\n",
        "  - tuple: Ordered collection of elements, immutable.\n",
        "4. Mapping Type:\n",
        "  - dict: Dictionary type, representing a collection of key-value pairs.\n",
        "5. Set Types:\n",
        "  - set: Unordered collection of unique elements.\n",
        "6. Boolean Type:\n",
        "  - bool: Boolean type, representing True or False values.\n",
        "\n"
      ],
      "metadata": {
        "id": "28PRLzmR36PL"
      }
    },
    {
      "cell_type": "code",
      "source": [
        "print('This is an example of an integer: ',3)\n",
        "print(type(3))\n",
        "\n",
        "print('This is an example of a float: ',3.14)\n",
        "print(type(3.14))\n",
        "\n",
        "print('This is an example of a string type: ','BUS ADM xxx')\n",
        "print(type('Hello World'))\n",
        "\n",
        "print(\"This is an example of a list\", ['Social Media', 'Content Marketing', 'Email Campaigns'])\n",
        "print(type(['Social Media', 'Content Marketing', 'Email Campaigns']))\n",
        "\n",
        "print(\"This is an example of a dictionary: \",{'customer_name': 'John Doe', 'customer_age': 29, 'loyalty_status':True})\n",
        "print(type({'customer_name': 'John Doe', 'customer_age': 29, 'loyalty_status':True}))\n",
        "\n",
        "iphone_prices = [599, 799, 999]\n",
        "print(599 in iphone_prices)\n",
        "print(type(599 in iphone_prices))"
      ],
      "metadata": {
        "id": "2HQJ2LPH4BBK"
      },
      "execution_count": null,
      "outputs": []
    },
    {
      "cell_type": "markdown",
      "source": [
        "### Type casting\n",
        "\n",
        "Data type conversion, also known as type casting, involves changing the data type of a value to another type. Python provides built-in functions and methods to perform various types of data type conversions."
      ],
      "metadata": {
        "id": "AAo_nPw-4WZO"
      }
    },
    {
      "cell_type": "code",
      "source": [
        "# integer to float\n",
        "integer_number = 5\n",
        "float_number = float(integer_number)\n",
        "print(float_number)\n",
        "\n",
        "# float to integer\n",
        "float_number = 3.14\n",
        "integer_number = int(float_number)\n",
        "print(integer_number)\n",
        "\n",
        "# string to integer or float\n",
        "string_number = \"123\"\n",
        "integer_value = int(string_number)\n",
        "float_value = float(string_number)\n",
        "print(integer_value)\n",
        "print(float_value)\n",
        "\n",
        "# integer or float to string\n",
        "integer_number = 42\n",
        "float_number = 3.14\n",
        "string_integer = str(integer_number)\n",
        "string_float = str(float_number)\n",
        "print(string_integer)\n",
        "print(string_float)"
      ],
      "metadata": {
        "id": "ZsHieorx4XzN"
      },
      "execution_count": null,
      "outputs": []
    },
    {
      "cell_type": "markdown",
      "source": [
        "# Strings"
      ],
      "metadata": {
        "id": "napCO5Daf_PF"
      }
    },
    {
      "cell_type": "markdown",
      "source": [
        "### Creating strings"
      ],
      "metadata": {
        "id": "GEWX0wru6B7Y"
      }
    },
    {
      "cell_type": "markdown",
      "source": [
        "Text is a string data type. Any data type written as text is a string. Any data under single, double or triple quote are strings. There are different string methods and built-in functions to deal with string data types. To check the length of a string use the len() method."
      ],
      "metadata": {
        "id": "UijXOKaRgKQB"
      }
    },
    {
      "cell_type": "code",
      "source": [
        "letter = 'X'\n",
        "print(letter)\n",
        "print(len(letter))\n",
        "greeting = '👋🏽'\n",
        "print(greeting)\n",
        "sentence = \"I hope you are enjoying Marketing Analytics.\"\n",
        "print(sentence)"
      ],
      "metadata": {
        "id": "_PX9Ho3NfuXF"
      },
      "execution_count": null,
      "outputs": []
    },
    {
      "cell_type": "markdown",
      "source": [
        "Multiline string is created by using triple single (''') or triple double quotes (\"\"\")."
      ],
      "metadata": {
        "id": "8WLCxFa15a_n"
      }
    },
    {
      "cell_type": "code",
      "source": [
        "multiline_string = '''I am a professor in the marketing department at Lubar.\n",
        "I am enjoying teaching BUS ADM xxx.\n",
        "This is day 1 of the course.'''\n",
        "print(multiline_string)\n",
        "\n",
        "# Another way of doing the same thing\n",
        "multiline_string = \"\"\"I am a professor in the marketing department at Lubar.\n",
        "I am enjoying teaching BUS ADM xxx.\n",
        "This is day 1 of the course.\"\"\"\n",
        "print(multiline_string)"
      ],
      "metadata": {
        "id": "hZqthYGA5bY5"
      },
      "execution_count": null,
      "outputs": []
    },
    {
      "cell_type": "markdown",
      "source": [
        "### String concatenation"
      ],
      "metadata": {
        "id": "vQJZ5VBN58nL"
      }
    },
    {
      "cell_type": "code",
      "source": [
        "first_name = 'Pallav'\n",
        "last_name = 'Routh'\n",
        "full_name = first_name  +  ' ' + last_name\n",
        "print(full_name)"
      ],
      "metadata": {
        "id": "3Jg7wfVY6Eu1"
      },
      "execution_count": null,
      "outputs": []
    },
    {
      "cell_type": "markdown",
      "source": [
        "### String formatting\n",
        "\n",
        "In Python there are many ways of formatting strings. String formatting in Python is useful when you need to create formatted strings that include variable values, constants, or expressions. It allows you to construct strings dynamically by combining text and data in a more readable and organized manner.\n",
        "\n",
        "There are various ways of formatting strings - using the `%` operator, using the `format()` method.\n",
        "\n",
        "The newest way is to use \"f\" strings."
      ],
      "metadata": {
        "id": "uZCMiRGK7AKQ"
      }
    },
    {
      "cell_type": "code",
      "source": [
        "first_name = 'Pallav'\n",
        "last_name = 'Routh'\n",
        "course_name = 'BUS ADM xxx'\n",
        "formated_string = f\"My name is {first_name} {last_name}. I teach {course_name} at UWM Lubar College of Business.\"\n",
        "print(formated_string)"
      ],
      "metadata": {
        "id": "agqHD-Ez84vm"
      },
      "execution_count": null,
      "outputs": []
    },
    {
      "cell_type": "markdown",
      "source": [
        "### Methods\n",
        "\n",
        "Built-in functions, as the name suggests, are functions that are provided by Python itself and are available for use without the need to import additional modules. These functions cover a wide range of general-purpose operations **and are not associated with any specific object or class**. For example `len()` and `print()`.\n",
        "\n",
        "On the other hand, a **method is a function that is associated with an object**. Methods are defined within classes and operate on the data (attributes) of instances (objects) of that class.\n",
        "\n",
        "Another key difference is that to call a function, you use the function's name followed by parentheses (`function_name()`). To call a method, you use the variable's name, followed by a dot (.), then the method name and parentheses (`variable_name.method_name()`).\n",
        "\n",
        "Later we will learn how methods are associated with \"objects\" and how it forms a key part of object oriented programming unique to python.\n",
        "\n",
        "Here are some examples of some methods on string class -\n"
      ],
      "metadata": {
        "id": "7DtDdNUu-JDk"
      }
    },
    {
      "cell_type": "code",
      "source": [
        "# capitalize strings - and lower() and upper()\n",
        "greeting = 'Hello, World!'\n",
        "print(greeting.capitalize())\n",
        "\n",
        "# split strings according to a separator\n",
        "greeting = 'Hello, World!'\n",
        "print(greeting.split())\n",
        "greeting = 'Hello, World!'\n",
        "print(greeting.split(', '))\n",
        "\n",
        "# trim white spaces\n",
        "greeting = ' Hello, World! '\n",
        "print(greeting.strip())\n",
        "\n",
        "# replace words/characters\n",
        "greeting = 'Hello, World!'\n",
        "print(greeting.replace(\"World\",\"Python\"))"
      ],
      "metadata": {
        "id": "cA4jVJbC-US3"
      },
      "execution_count": null,
      "outputs": []
    },
    {
      "cell_type": "markdown",
      "source": [
        "### Method chaining\n",
        "\n",
        "Method chaining, also known as method cascading is a technique where multiple method calls are chained together in a single expression.\n",
        "\n",
        "Each method call returns an object, which allows you to immediately call another method on the result, creating a sequence of operations that are executed in a linear fashion.\n",
        "\n",
        "Later we will see how it can be effectively used for data manipulation."
      ],
      "metadata": {
        "id": "41YIlLyxaeQd"
      }
    },
    {
      "cell_type": "code",
      "source": [
        "greeting = ' Hello, World! '\n",
        "print(greeting.strip().replace(\"World\",\"Python\"))"
      ],
      "metadata": {
        "id": "0_jwFIA4ad-t"
      },
      "execution_count": null,
      "outputs": []
    },
    {
      "cell_type": "markdown",
      "source": [
        "# Operators"
      ],
      "metadata": {
        "id": "mlNt9TxRGIrp"
      }
    },
    {
      "cell_type": "markdown",
      "source": [
        "### Assignment Operators\n",
        "\n",
        "We have already seen the assignment operator which is used to assign a value to variable. There are also arithmetic operators used for performing common mathematic operations.\n",
        "\n",
        "### Arithmetic Operators\n",
        "\n",
        "- Addition: `a + b`\n",
        "- Subtraction: `a - b`\n",
        "- Multiplication: `a * b`\n",
        "- Division: `a / b`\n",
        "- Modulus: `a % b`\n",
        "- Floor division: `a // b`\n",
        "- Exponentiation: `a ** b`"
      ],
      "metadata": {
        "id": "JeZa-_CAGOiW"
      }
    },
    {
      "cell_type": "code",
      "source": [
        "a = 3\n",
        "b = 2\n",
        "\n",
        "# Arithmetic operations and assigning the result to a variable\n",
        "total = a + b\n",
        "diff = a - b\n",
        "product = a * b\n",
        "division = a / b\n",
        "remainder = a % b\n",
        "floor_division = a // b\n",
        "exponential = a ** b\n",
        "\n",
        "\n",
        "# Calculate the total revenue from a product\n",
        "unit_price = 10.99\n",
        "units_sold = 1500\n",
        "total_revenue = unit_price * units_sold\n",
        "print('Total Revenue:', total_revenue)\n",
        "\n",
        "# Calculate the conversion rate of a marketing campaign\n",
        "visitors = 10000\n",
        "conversions = 800\n",
        "conversion_rate = (conversions / visitors) * 100\n",
        "print('Conversion Rate:', conversion_rate, '%')\n",
        "\n",
        "# Calculate the return on investment (ROI) for an advertising campaign\n",
        "initial_investment = 5000\n",
        "net_profit = 1500\n",
        "roi = ((net_profit - initial_investment) / initial_investment) * 100\n",
        "print('ROI:', roi, '%')\n",
        "\n",
        "# Calculate the click-through rate (CTR) of an email campaign\n",
        "emails_sent = 5000\n",
        "clicks = 300\n",
        "ctr = (clicks / emails_sent) * 100\n",
        "print('Click-Through Rate:', ctr, '%')\n"
      ],
      "metadata": {
        "id": "DcOe9z_BHbH8"
      },
      "execution_count": null,
      "outputs": []
    },
    {
      "cell_type": "markdown",
      "source": [
        "### Comparison Operator\n",
        "\n",
        "In programming we compare values, we use comparison operators to compare two values. We check if a value is greater or less or equal to other value. Here is a list - [w3school](https://www.w3schools.com/python/python_operators.asp)"
      ],
      "metadata": {
        "id": "DG_PUHpALgY1"
      }
    },
    {
      "cell_type": "code",
      "source": [
        "print(3 > 2)\n",
        "print(3 >= 2)\n",
        "print(3 < 2)\n",
        "print(2 < 3)\n",
        "print(2 <= 3)\n",
        "print(3 == 2)\n",
        "print(3 != 2)\n",
        "\n",
        "# Comparing something gives either a True or False\n",
        "print('True == True: ', True == True)\n",
        "print('True == False: ', True == False)\n",
        "print('False == False:', False == False)"
      ],
      "metadata": {
        "id": "FCdUAgU6L7zC"
      },
      "execution_count": null,
      "outputs": []
    },
    {
      "cell_type": "markdown",
      "source": [
        "In addition to the above comparison operator Python uses:\n",
        "\n",
        "- `is`: Returns true if both variables are the same object(x is y)\n",
        "- `is not`: Returns true if both variables are not the same object(x is not y)\n",
        "- `in`: Returns True if the queried list contains a certain item(x in y)\n",
        "- `not in`: Returns True if the queried list doesn't have a certain item(x in y)"
      ],
      "metadata": {
        "id": "mCW1Nr3tMbbO"
      }
    },
    {
      "cell_type": "code",
      "source": [
        "print('1 is 1', 1 is 1)\n",
        "print('1 is not 2', 1 is not 2)\n",
        "print('C in Customer', 'M' in 'Customer')\n",
        "print('a in an:', 'a' in 'an')\n",
        "print('4 is 2 ** 2:', 4 is 2 ** 2)"
      ],
      "metadata": {
        "id": "WEkqNHctMJ75"
      },
      "execution_count": null,
      "outputs": []
    },
    {
      "cell_type": "markdown",
      "source": [
        "### Logical Operators"
      ],
      "metadata": {
        "id": "zGNXBiojM6aw"
      }
    },
    {
      "cell_type": "code",
      "source": [
        "print(3 > 2 and 4 > 3)\n",
        "print(3 > 2 and 4 < 3)\n",
        "print(3 < 2 and 4 < 3)\n",
        "print('True and True: ', True and True)\n",
        "print(3 > 2 or 4 > 3)\n",
        "print(3 > 2 or 4 < 3)\n",
        "print(3 < 2 or 4 < 3)\n",
        "print('True or False:', True or False)\n",
        "print(not 3 > 2)\n",
        "print(not True)\n",
        "print(not False)\n",
        "print(not not True)\n",
        "print(not not False)"
      ],
      "metadata": {
        "id": "MPM1e7EBM9Bb"
      },
      "execution_count": null,
      "outputs": []
    },
    {
      "cell_type": "markdown",
      "source": [
        "# Lists"
      ],
      "metadata": {
        "id": "bEYAKKVcNaxF"
      }
    },
    {
      "cell_type": "markdown",
      "source": [
        "a list is a built-in data type that represents an ordered collection of items. Lists are incredibly versatile and one of the most commonly used data structures in Python. They allow you to store multiple values in a single variable, and you can access, modify, and manipulate these values easily.\n",
        "\n",
        "- Lists **maintain the order** of elements as they are added. The order of elements is preserved, and you can access elements by their index.\n",
        "\n",
        "- Lists **are mutable**, which means you can change, add, or remove elements after the list is created.\n",
        "\n",
        "- A list **can contain elements of different data types**, such as integers, strings, floats, and even other lists.\n",
        "\n",
        "- You can **access elements in a list using zero-based indexing**. Negative indices count from the end of the list.\n",
        "\n",
        "\n",
        "Lists are incredibly useful because -\n",
        "\n",
        "- Lists are perfect for storing collections of related data, such as a list of numbers, names, or dates.\n",
        "- Lists are ideal for iterating over elements using loops, comprehensions, or other iteration methods.\n",
        "- Lists can dynamically expand or shrink in size as elements are added or removed, making them suitable for dynamic data storage.\n"
      ],
      "metadata": {
        "id": "tWpSzVldNgau"
      }
    },
    {
      "cell_type": "markdown",
      "source": [
        "### Creating a list"
      ],
      "metadata": {
        "id": "e3s12i4XNq1G"
      }
    },
    {
      "cell_type": "code",
      "source": [
        "empty_list = list()\n",
        "empty_list = []\n",
        "print(len(empty_list))\n",
        "\n",
        "campaign_metrics = ['Impressions', 'Click-through Rate', 'Conversion Rate', 'ROI', 'Engagement']\n",
        "marketing_strategies = ['Social Media', 'Content Marketing', 'Email Campaigns', 'TV Ads', 'Radio Spots', 'Print Ads']\n",
        "target_demographics = ['Young Adults', 'Parents', 'Seniors', 'Students']\n",
        "social_media = ['Facebook', 'Instagram', 'Twitter', 'LinkedIn','TikTok']\n",
        "\n",
        "# Print the lists and its length\n",
        "print('Campaign metrics:', campaign_metrics)\n",
        "print('Marketing strategies:', marketing_strategies)\n",
        "print('Target demographics:', target_demographics)\n",
        "print('Social media apps:', social_media)\n",
        "print('Number of marketing strategies:', len(marketing_strategies))\n",
        "\n",
        "# list of different data types\n",
        "lst = ['Pallav', 250, True] # list containing different data types"
      ],
      "metadata": {
        "id": "W1fy-X8kNf8W"
      },
      "execution_count": null,
      "outputs": []
    },
    {
      "cell_type": "markdown",
      "source": [
        "### Accessing different elements of a list"
      ],
      "metadata": {
        "id": "rrTF8sIhOQrF"
      }
    },
    {
      "cell_type": "code",
      "source": [
        "campaign_metrics = ['Impressions', 'Click-through Rate', 'Conversion Rate', 'ROI', 'Engagement']\n",
        "\n",
        "# positive indices\n",
        "print(campaign_metrics[0])\n",
        "print(campaign_metrics[1])\n",
        "last_index = len(campaign_metrics) - 1\n",
        "last_metric = campaign_metrics[last_index]\n",
        "print(last_metric)\n",
        "\n",
        "# negative indices\n",
        "print(campaign_metrics[-4])\n",
        "print(campaign_metrics[-3])"
      ],
      "metadata": {
        "id": "js-yJ-NUOTtV"
      },
      "execution_count": null,
      "outputs": []
    },
    {
      "cell_type": "markdown",
      "source": [
        "### Slicing items"
      ],
      "metadata": {
        "id": "NlWO40g-Ok4i"
      }
    },
    {
      "cell_type": "code",
      "source": [
        "marketing_strategies = ['Social Media', 'Content Marketing', 'Email Campaigns', 'TV Ads', 'Radio Spots', 'Print Ads']\n",
        "print(marketing_strategies[0:4])\n",
        "print(marketing_strategies[0:])\n",
        "print(marketing_strategies[1:3])\n",
        "print(marketing_strategies[::2])\n",
        "\n",
        "# negative indices\n",
        "print(marketing_strategies[-4:])\n",
        "print(marketing_strategies[-3:-1])\n",
        "print(marketing_strategies[-3:])\n",
        "print(marketing_strategies[::-1])"
      ],
      "metadata": {
        "id": "2jurSXpiQxEN"
      },
      "execution_count": null,
      "outputs": []
    },
    {
      "cell_type": "markdown",
      "source": [
        "### Modifying lists"
      ],
      "metadata": {
        "id": "zeVdBNUZRFLZ"
      }
    },
    {
      "cell_type": "code",
      "source": [
        "campaign_metrics = ['Impressions', 'Click-through Rate', 'Conversion Rate', 'ROI', 'Engagement']\n",
        "campaign_metrics[0] = 'Customer Impressions'\n",
        "print(campaign_metrics)\n",
        "\n",
        "last_index = len(campaign_metrics) - 1\n",
        "campaign_metrics[last_index] = 'Online Engagement'\n",
        "print(campaign_metrics)"
      ],
      "metadata": {
        "colab": {
          "base_uri": "https://localhost:8080/"
        },
        "id": "LqKJxfFKRG3B",
        "outputId": "5c6cedfb-d105-45ca-e85e-c475dedd72eb"
      },
      "execution_count": null,
      "outputs": [
        {
          "output_type": "stream",
          "name": "stdout",
          "text": [
            "['Customer Impressions', 'Click-through Rate', 'Conversion Rate', 'ROI', 'Engagement']\n",
            "['Customer Impressions', 'Click-through Rate', 'Conversion Rate', 'ROI', 'Online Engagement']\n"
          ]
        }
      ]
    },
    {
      "cell_type": "markdown",
      "source": [
        "### Checking items in a list"
      ],
      "metadata": {
        "id": "Ni3gcJ0fROhZ"
      }
    },
    {
      "cell_type": "code",
      "source": [
        "campaign_metrics = ['Impressions', 'Click-through Rate', 'Conversion Rate', 'ROI', 'Engagement']\n",
        "'Impressions' in campaign_metrics\n",
        "'Online engagement' in campaign_metrics"
      ],
      "metadata": {
        "id": "O9x8Wbq32cwy"
      },
      "execution_count": null,
      "outputs": []
    },
    {
      "cell_type": "markdown",
      "source": [
        "### Adding items to a list\n"
      ],
      "metadata": {
        "id": "em6asevlRZlF"
      }
    },
    {
      "cell_type": "code",
      "source": [
        "digital_strategies = ['Social Media', 'Content Marketing', 'Email Campaigns']\n",
        "digital_strategies.append('SEO Optimization')\n",
        "print(digital_strategies)"
      ],
      "metadata": {
        "id": "thDFQV-uRZDP"
      },
      "execution_count": null,
      "outputs": []
    },
    {
      "cell_type": "markdown",
      "source": [
        "### Joining lists"
      ],
      "metadata": {
        "id": "4DQYBO9JSuS3"
      }
    },
    {
      "cell_type": "code",
      "source": [
        "digital_strategies = ['Social Media', 'Content Marketing', 'Email Campaigns']\n",
        "traditional_strategies = ['TV Ads', 'Radio Spots', 'Print Ads']\n",
        "all_strategies = print(digital_strategies + traditional_strategies)\n",
        "\n",
        "# using the extend method\n",
        "digital_strategies = ['Social Media', 'Content Marketing', 'Email Campaigns']\n",
        "traditional_strategies = ['TV Ads', 'Radio Spots', 'Print Ads']\n",
        "# Extending Lists with More Strategies\n",
        "print(digital_strategies.extend(traditional_strategies))"
      ],
      "metadata": {
        "id": "S7T-hNHlSt_G"
      },
      "execution_count": null,
      "outputs": []
    },
    {
      "cell_type": "markdown",
      "source": [
        "### Finding index of an item"
      ],
      "metadata": {
        "id": "f4LSdpwuTGuq"
      }
    },
    {
      "cell_type": "code",
      "source": [
        "target_demographics = ('Young Adults', 'Parents', 'Seniors', 'Students')\n",
        "print(target_demographics.index('Parents'))\n",
        "campaign_scores = [8.5, 7.2, 9.0, 6.8, 8.9, 7.5, 9.5]\n",
        "print(campaign_scores.index(6.8))"
      ],
      "metadata": {
        "id": "9rsDV5eoTIy3"
      },
      "execution_count": null,
      "outputs": []
    },
    {
      "cell_type": "markdown",
      "source": [
        "### Sorting a list"
      ],
      "metadata": {
        "id": "sbkm9AWnW8fx"
      }
    },
    {
      "cell_type": "code",
      "source": [
        "campaign_scores = [8.5, 7.2, 9.0, 6.8, 8.9, 7.5, 9.5]\n",
        "campaign_scores.sort()\n",
        "print(\"Sorted Campaign Performance Scores (Low to High):\")\n",
        "print(campaign_scores)\n",
        "\n",
        "campaign_scores.sort(reverse=True)\n",
        "print(\"Sorted Campaign Performance Scores (High to Low):\")\n",
        "print(campaign_scores)"
      ],
      "metadata": {
        "id": "XAnTh5_PW9_W"
      },
      "execution_count": null,
      "outputs": []
    },
    {
      "cell_type": "markdown",
      "source": [
        "### Checking for an element in the list"
      ],
      "metadata": {
        "id": "MirgfsjHb09P"
      }
    },
    {
      "cell_type": "code",
      "source": [
        "social_media = ['Facebook', 'Instagram', 'Twitter', 'LinkedIn']\n",
        "print('Facebook' in social_media)\n",
        "print('TikTok' in social_media)"
      ],
      "metadata": {
        "id": "Cs3c99yYJR-g"
      },
      "execution_count": null,
      "outputs": []
    },
    {
      "cell_type": "markdown",
      "source": [
        "# Tuples"
      ],
      "metadata": {
        "id": "_5tfAx6HXMI6"
      }
    },
    {
      "cell_type": "markdown",
      "source": [
        "a tuple is a built-in data type that represents an ordered collection of elements, similar to a list. However, there are key differences between tuples and lists that make tuples unique and suitable for specific use cases. Tuples are written with round brackets, ().\n",
        "\n",
        "- Tuples maintain the order of elements as they are added. You can access elements by their index, just like in lists.\n",
        "\n",
        "- Tuples are immutable, which means once a tuple is created, you cannot modify its elements, add new elements, or remove existing ones.\n",
        "\n",
        "- Similar to lists, q tuple can contain elements of different data types, just like a list and you can access elements in a tuple using zero-based indexing. Negative indices count from the end of the tuple.\n",
        "\n",
        "Tuples are useful when -\n",
        "\n",
        "- Since tuples **are immutable**, they can be used to store data that should not be changed accidentally. This is useful for situations where you want to ensure the integrity of the data.\n",
        "\n",
        "- Tuples can be **easily unpacked into variables**, which makes them useful when working with functions that return multiple values.\n",
        "\n"
      ],
      "metadata": {
        "id": "ib_gbaVoXRx6"
      }
    },
    {
      "cell_type": "code",
      "source": [
        "target_demographics = ('Young Adults', 'Parents', 'Seniors', 'Students')"
      ],
      "metadata": {
        "id": "SM5SGSWqXLxZ"
      },
      "execution_count": null,
      "outputs": []
    },
    {
      "cell_type": "markdown",
      "source": [
        "### Accessing tuple\n",
        "\n",
        "Same as lists"
      ],
      "metadata": {
        "id": "vpXRgw43aboW"
      }
    },
    {
      "cell_type": "code",
      "source": [
        "campaign_metrics = ('Impressions', 'Click-through Rate', 'Conversion Rate', 'ROI', 'Engagement')\n",
        "\n",
        "# positive indices\n",
        "print(campaign_metrics[0])\n",
        "print(campaign_metrics[1])\n",
        "last_index = len(campaign_metrics) - 1\n",
        "last_metric = campaign_metrics[last_index]\n",
        "print(last_metric)\n",
        "\n",
        "# negative indices\n",
        "print(campaign_metrics[-4])\n",
        "print(campaign_metrics[-3])"
      ],
      "metadata": {
        "id": "BAY_RwjGaiBa"
      },
      "execution_count": null,
      "outputs": []
    },
    {
      "cell_type": "markdown",
      "source": [
        "### Slicing tuples\n",
        "\n",
        "Same as lists"
      ],
      "metadata": {
        "id": "rhdfHm33arHW"
      }
    },
    {
      "cell_type": "code",
      "source": [
        "campaign_metrics = ('Impressions', 'Click-through Rate', 'Conversion Rate', 'ROI', 'Engagement')\n",
        "\n",
        "# using positive indices\n",
        "print(campaign_metrics[:])\n",
        "print(campaign_metrics[2:4])\n",
        "print(campaign_metrics[1:])\n",
        "\n",
        "# using negative indices\n",
        "print(campaign_metrics[-4:])\n",
        "print(campaign_metrics[-3:-1])\n",
        "print(campaign_metrics[-3:])"
      ],
      "metadata": {
        "id": "1kmaLbw2auFB"
      },
      "execution_count": null,
      "outputs": []
    },
    {
      "cell_type": "markdown",
      "source": [
        "### Changing tuples to list"
      ],
      "metadata": {
        "id": "5vDI03n3a3nY"
      }
    },
    {
      "cell_type": "code",
      "source": [
        "target_demographics = ('Young Adults', 'Parents', 'Seniors', 'Students')\n",
        "target_demographics = list(target_demographics)"
      ],
      "metadata": {
        "id": "zU8fj_W4a6G_"
      },
      "execution_count": null,
      "outputs": []
    },
    {
      "cell_type": "markdown",
      "source": [
        "### Checking for an element in a tuple"
      ],
      "metadata": {
        "id": "yqS7eZTdJf5L"
      }
    },
    {
      "cell_type": "code",
      "source": [
        "social_media = ('Facebook', 'Instagram', 'Twitter', 'LinkedIn')\n",
        "print('Facebook' in social_media)\n",
        "print('TikTok' in social_media)"
      ],
      "metadata": {
        "id": "M-uQxfs-a9v2"
      },
      "execution_count": null,
      "outputs": []
    },
    {
      "cell_type": "code",
      "source": [
        "social_media = ('Facebook', 'Instagram', 'Twitter', 'LinkedIn')\n",
        "traditional_media = ('TV', 'Radio', 'Print', 'Billboard')\n",
        "marketing_channels = social_media + traditional_media"
      ],
      "metadata": {
        "id": "P5v9-Nr6Jq0X"
      },
      "execution_count": null,
      "outputs": []
    },
    {
      "cell_type": "markdown",
      "source": [
        "Other important methods on lists and tuples - delete, unpacking a list or tuple"
      ],
      "metadata": {
        "id": "stMjZwft0n1S"
      }
    }
  ]
}