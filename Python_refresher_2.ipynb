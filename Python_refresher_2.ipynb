{
  "nbformat": 4,
  "nbformat_minor": 0,
  "metadata": {
    "colab": {
      "provenance": [],
      "authorship_tag": "ABX9TyOMSlZgJ+AdsklEwSR9bXXS",
      "include_colab_link": true
    },
    "kernelspec": {
      "name": "python3",
      "display_name": "Python 3"
    },
    "language_info": {
      "name": "python"
    }
  },
  "cells": [
    {
      "cell_type": "markdown",
      "metadata": {
        "id": "view-in-github",
        "colab_type": "text"
      },
      "source": [
        "<a href=\"https://colab.research.google.com/github/pallavrouth/MarketingAnalytics/blob/main/Python_refresher_2.ipynb\" target=\"_parent\"><img src=\"https://colab.research.google.com/assets/colab-badge.svg\" alt=\"Open In Colab\"/></a>"
      ]
    },
    {
      "cell_type": "markdown",
      "source": [
        "# Sets\n",
        "\n",
        "In Python, a set is a built-in data type that represents an unordered collection of unique elements. Sets are designed to store and manage a collection of values, but unlike lists or tuples, they do not allow duplicate values. Sets are particularly useful when you need to store a collection of items and ensure that each item appears only once.\n",
        "\n",
        "We use the `set()` built-in function."
      ],
      "metadata": {
        "id": "uAU5xB0KmFl6"
      }
    },
    {
      "cell_type": "markdown",
      "source": [
        "### Creating a set\n",
        "\n",
        "- **Creating an empty set** - `my_set = set()`\n",
        "- **Creating an initial set** - `{item1, item2,...}`"
      ],
      "metadata": {
        "id": "U6NiXKS3murH"
      }
    },
    {
      "cell_type": "code",
      "execution_count": null,
      "metadata": {
        "id": "j4YoH-HAlwvv"
      },
      "outputs": [],
      "source": [
        "marketing_strategies = {'Social Media', 'Content Marketing', 'Email Campaigns'}\n",
        "print(marketing_strategies)\n",
        "print(type(marketing_strategies))"
      ]
    },
    {
      "cell_type": "markdown",
      "source": [
        "### Checking for an item"
      ],
      "metadata": {
        "id": "B-5t2zHunZI_"
      }
    },
    {
      "cell_type": "code",
      "source": [
        "'Social Media' in marketing_strategies"
      ],
      "metadata": {
        "id": "oZ0xpuNKnY0J"
      },
      "execution_count": null,
      "outputs": []
    },
    {
      "cell_type": "markdown",
      "source": [
        "### Adding items\n",
        "\n",
        "- Single item using the `add()` method\n",
        "- Multiple items using the `update()` method"
      ],
      "metadata": {
        "id": "JycC-tJHnjJD"
      }
    },
    {
      "cell_type": "code",
      "source": [
        "marketing_strategies.add('Newspaper Ad')\n",
        "print(marketing_strategies)\n",
        "\n",
        "marketing_strategies.update(['TV Ads', 'Radio Spots'])\n",
        "print(marketing_strategies)"
      ],
      "metadata": {
        "id": "UajdvPVYnYgI"
      },
      "execution_count": null,
      "outputs": []
    },
    {
      "cell_type": "markdown",
      "source": [
        "### Converting a list to a set\n",
        "\n",
        "Use the `set` built in function\n",
        "\n",
        "If you have a list with duplicate elements and you want to remove those duplicates, converting the list to a set and then back to a list will automatically remove duplicates due to the unique property of sets."
      ],
      "metadata": {
        "id": "vHTGho4goXWV"
      }
    },
    {
      "cell_type": "code",
      "source": [
        "marketing_strategies = ['Newspaper Ad', 'Content Marketing', 'Email Campaigns', 'Radio Spots', 'TV Ads', 'Social Media', 'Email Campaigns', 'Newspaper Ad']\n",
        "print(set(marketing_strategies))"
      ],
      "metadata": {
        "id": "UXbQ8cxUosGs"
      },
      "execution_count": null,
      "outputs": []
    },
    {
      "cell_type": "markdown",
      "source": [
        "### Set operations\n",
        "\n",
        "If you need to perform set operations like union, intersection, or difference, converting other data types to sets can simplify these operations and improve performance. Some set operations are -\n",
        "\n",
        "- union: The union of two sets includes all the distinct elements present in either or both sets. It creates a new set containing all unique elements from both sets.\n",
        "- intersection: The intersection of two sets contains all the elements that are common to both sets. It creates a new set containing elements present in both sets.\n",
        "- difference: The difference between two sets contains elements that are present in the first set but not in the second set. It creates a new set containing elements from the first set that are not present in the second set."
      ],
      "metadata": {
        "id": "uZTzvyntpCUO"
      }
    },
    {
      "cell_type": "code",
      "source": [
        "# union\n",
        "set1 = {1, 2, 3}\n",
        "set2 = {3, 4, 5}\n",
        "union_set = set1 | set2\n",
        "\n",
        "# intersection\n",
        "set1 = {1, 2, 3}\n",
        "set2 = {3, 4, 5}\n",
        "intersection_set = set1 & set2\n",
        "\n",
        "# difference\n",
        "set1 = {1, 2, 3}\n",
        "set2 = {3, 4, 5}\n",
        "difference_set = set1 - set2"
      ],
      "metadata": {
        "id": "X0tEYQB3pB8s"
      },
      "execution_count": null,
      "outputs": []
    },
    {
      "cell_type": "markdown",
      "source": [
        "# Dictionaries\n",
        "\n",
        "A dictionary is a built-in data type that represents an unordered collection of key-value pairs. Each key in a dictionary is associated with a corresponding value, allowing you to store and retrieve data using these keys.\n",
        "\n",
        "Dictionaries are particularly useful when you need to associate data with specific keys and retrieve that data efficiently. For example, you might use a dictionary to store information about people using their names as keys.\n",
        "\n",
        "Similar to sets, they are also created using `{}`, however, they have key value pairs inside them. For example: `{key1: value1, key2, value2, key3: value3}`"
      ],
      "metadata": {
        "id": "92yf5-oyr7L5"
      }
    },
    {
      "cell_type": "markdown",
      "source": [
        "### Creating a dictionary"
      ],
      "metadata": {
        "id": "AWM3_U7ltnr4"
      }
    },
    {
      "cell_type": "code",
      "source": [
        "marketing_campaign = {\n",
        "    \"campaign_name\": \"Summer Sale 2023\",\n",
        "    \"start_date\": \"2023-06-15\",\n",
        "    \"end_date\": \"2023-07-15\",\n",
        "    \"target_audience\": [\"existing_customers\", \"young_adults\"],\n",
        "    \"channels\": [\"social_media\", \"email\", \"billboards\"],\n",
        "    \"budget\": 150000,\n",
        "    \"conversion_rate\": 0.05,\n",
        "    \"total_sales\": 7500,\n",
        "    \"advertisements\": {\n",
        "        \"social_media\": 25,\n",
        "        \"email\": 10,\n",
        "        \"billboards\": 5\n",
        "    },\n",
        "    \"engagement_metrics\": {\n",
        "        \"likes\": 35000,\n",
        "        \"clicks\": 2800,\n",
        "        \"shares\": 1200\n",
        "    }\n",
        "}\n",
        "\n",
        "print(marketing_campaign)\n",
        "\n",
        "from pprint import pprint\n",
        "pprint(marketing_campaign)"
      ],
      "metadata": {
        "id": "UW38yJ7YtmF-"
      },
      "execution_count": null,
      "outputs": []
    },
    {
      "cell_type": "markdown",
      "source": [
        "### Dictionary length"
      ],
      "metadata": {
        "id": "4Wr_7ib8uefv"
      }
    },
    {
      "cell_type": "code",
      "source": [
        "print(len(marketing_campaign))"
      ],
      "metadata": {
        "id": "6KO2jBkUucRS"
      },
      "execution_count": null,
      "outputs": []
    },
    {
      "cell_type": "markdown",
      "source": [
        "### Accessing dictionary items"
      ],
      "metadata": {
        "id": "e0-fzsSruoAM"
      }
    },
    {
      "cell_type": "code",
      "source": [
        "print(\"Campaign Name:\", marketing_campaign[\"campaign_name\"])\n",
        "print(\"Target Audience:\", marketing_campaign[\"target_audience\"])\n",
        "print(\"Budget:\", marketing_campaign[\"budget\"])"
      ],
      "metadata": {
        "id": "fa5R3D1-uldi"
      },
      "execution_count": null,
      "outputs": []
    },
    {
      "cell_type": "markdown",
      "source": [
        "Other important functions\n",
        "\n",
        "- Adding item to dictionaries\n",
        "- Modifying items in a dictionary\n",
        "- Checking for keys in a dictionary\n",
        "- Removing key value pair\n",
        "- Getting dictionary keys as list\n",
        "- Listing all keys and values in a dictionary"
      ],
      "metadata": {
        "id": "qzyfe_MyvYrN"
      }
    },
    {
      "cell_type": "code",
      "source": [
        "# Adding a new key-value pair\n",
        "marketing_campaign[\"new_customers\"] = 375\n",
        "pprint(marketing_campaign)\n",
        "\n",
        "# Modifying a value\n",
        "marketing_campaign[\"conversion_rate\"] = 0.06\n",
        "print(marketing_campaign[\"conversion_rate\"])\n",
        "\n",
        "# Checking for keys\n",
        "print(\"campaign_name\" in marketing_campaign)\n",
        "\n",
        "# Deleting/removing\n",
        "del marketing_campaign[\"channels\"]\n",
        "pprint(marketing_campaign)\n",
        "\n",
        "# Printing all keys in a dictionary\n",
        "print(marketing_campaign.keys())\n",
        "print(marketing_campaign.values())"
      ],
      "metadata": {
        "id": "Tebc-Qkzvs3-"
      },
      "execution_count": null,
      "outputs": []
    },
    {
      "cell_type": "markdown",
      "source": [
        "# Conditionals\n",
        "\n",
        "Conditionals in Python are programming constructs that allow you to make decisions in your code based on certain conditions or criteria. They enable your program to execute different blocks of code based on whether a given condition is True or False. Conditionals are essential for controlling the flow of your program and making it responsive to different situations.\n",
        "\n",
        "Python provides several types of conditional statements, the most common of which are the `if`, `elif`, and `else` statements.\n",
        "\n",
        "Here is how they are structured -\n",
        "\n",
        "```\n",
        "if condition1:\n",
        "    # Code to execute if condition1 is True\n",
        "elif condition2:\n",
        "    # Code to execute if condition2 is True\n",
        "else:\n",
        "    # Code to execute if neither conditions are True\n",
        "```\n",
        "\n",
        "Note: you don't have to use all three all the time. Some situations only require you to use the `if` statement."
      ],
      "metadata": {
        "id": "IGCoIkHPd8HH"
      }
    },
    {
      "cell_type": "code",
      "source": [
        "# example 1\n",
        "lead_score = 85\n",
        "if lead_score >= 80:\n",
        "    lead_status = \"hot\"\n",
        "else:\n",
        "    lead_status = \"cold\"\n",
        "print(lead_status)\n",
        "\n",
        "# example 2\n",
        "total_purchase_amount = 250\n",
        "if total_purchase_amount >= 100:\n",
        "    discount_percentage = 10\n",
        "elif total_purchase_amount >= 50:\n",
        "    discount_percentage = 5\n",
        "else:\n",
        "    discount_percentage = 0\n",
        "\n",
        "final_price = total_purchase_amount - (discount_percentage/100)*total_purchase_amount\n",
        "print(final_price)"
      ],
      "metadata": {
        "id": "ZojT38WZhZRY"
      },
      "execution_count": null,
      "outputs": []
    },
    {
      "cell_type": "markdown",
      "source": [
        "Pay attention to the indentation.\n",
        "\n",
        "In conditionals (if statements, elif statements, and else statements), proper indentation is used to indicate which lines of code are part of the conditional block.\n",
        "\n",
        "Remember that proper indentation is not just a matter of style; it's a requirement for correct code execution in Python. Incorrect indentation can lead to syntax errors and unexpected behavior in your program. Always ensure that your code follows the indentation rules when working with conditionals and other control structures.\n",
        "\n",
        "Proper indentation becomes crucial for nested conditionals."
      ],
      "metadata": {
        "id": "53NH19ruiA6h"
      }
    },
    {
      "cell_type": "code",
      "source": [
        "enrolled = True\n",
        "income = 50000\n",
        "\n",
        "if enrolled:\n",
        "    if income <= 30_000:\n",
        "        print(\"You are enrolled and eligible for financing.\")\n",
        "    else:\n",
        "        print(\"You are enrolled and eligible for a student discount.\")\n",
        "else:\n",
        "    if income > 30_000:\n",
        "        print(\"You are not enrolled but eligible for a special discount.\")\n",
        "    else:\n",
        "        print(\"You are not enrolled and have to pay full price\")"
      ],
      "metadata": {
        "id": "ajY2fHvliAKz"
      },
      "execution_count": null,
      "outputs": []
    },
    {
      "cell_type": "markdown",
      "source": [
        "Sometimes logical operators can be used to combine multiple conditions."
      ],
      "metadata": {
        "id": "Xwzgxq1ljjuY"
      }
    },
    {
      "cell_type": "code",
      "source": [
        "enrolled = True\n",
        "income = 50000\n",
        "\n",
        "if enrolled and income <= 30_000:\n",
        "    print(\"You are enrolled and eligible for a student discount.\")\n",
        "elif enrolled and income > 30_000:\n",
        "    print(\"You are enrolled eligible for a special offer.\")\n",
        "else:\n",
        "    print(\"You are not eligible for special offers and discounts\")"
      ],
      "metadata": {
        "id": "LMMkXg-PjrjG"
      },
      "execution_count": null,
      "outputs": []
    },
    {
      "cell_type": "markdown",
      "source": [
        "# Iteration\n",
        "\n",
        "Loops and iterations are fundamental concepts in programming that allow you to execute a block of code repeatedly, either for a specific number of times or until a certain condition is met. In Python, loops are used to automate repetitive tasks and perform operations on a sequence of data.\n",
        "\n",
        "Python provides two main types of loops: for loops and while loops. In this course we will stick to for loops.\n",
        "\n",
        "A for loop is used to iterate over a sequence (such as a list, tuple, string, or range) and execute a block of code for each element in the sequence.\n",
        "\n",
        "In this course we will focus on looping over list and dictionaries."
      ],
      "metadata": {
        "id": "X87hUKfIsici"
      }
    },
    {
      "cell_type": "code",
      "source": [
        "# looping over a list\n",
        "campaigns = [\"Summer Sale\", \"Back-to-School\", \"Holiday Special\", \"New Year Promotion\"]\n",
        "\n",
        "print(\"Upcoming Marketing Campaigns:\")\n",
        "for campaign in campaigns:\n",
        "    print(f\"Get ready for the {campaign}! Exciting deals and offers await.\")\n",
        "\n",
        "# looping over dictionary\n",
        "customer_purchase = {\n",
        "    \"Alice\": 150,\n",
        "    \"Bob\": 300,\n",
        "    \"Charlie\": 80,\n",
        "    \"David\": 200\n",
        "}\n",
        "\n",
        "print(\"Customer Email Recommendations:\")\n",
        "for customer, purchase_amount in customer_purchase.items():\n",
        "    if purchase_amount > 200:\n",
        "        print(f\"Dear {customer}, you qualify for a VIP discount!\")\n",
        "    else:\n",
        "        print(f\"Hello {customer}, check out our latest offers!\")\n",
        "\n",
        "# using enumerate to access index\n",
        "customers = [\"Alice\", \"Bob\", \"Charlie\", \"David\", \"Eve\"]\n",
        "\n",
        "print(\"Customer Welcome Messages:\")\n",
        "for index, customer in enumerate(customers):\n",
        "    print(f\"Welcome, {customer}! You are customer #{index + 1}.\")\n"
      ],
      "metadata": {
        "id": "ac9QVmdT3m_s"
      },
      "execution_count": null,
      "outputs": []
    },
    {
      "cell_type": "markdown",
      "source": [
        "### Iterating over multiple lists\n"
      ],
      "metadata": {
        "id": "BGwKVHi046tj"
      }
    },
    {
      "cell_type": "code",
      "source": [
        "campaigns = [\"Summer Sale\", \"Back-to-School\", \"Holiday Special\", \"New Year Promotion\"]\n",
        "durations = range(3, 7)\n",
        "# print(list(range(3,7)))\n",
        "\n",
        "print(\"Upcoming Marketing Campaigns and Durations:\")\n",
        "for campaign, duration in zip(campaigns, durations):\n",
        "    print(f\"The {campaign} is coming up in {duration} weeks. Get ready for exciting offers!\")"
      ],
      "metadata": {
        "id": "qe26pPEg6VTl"
      },
      "execution_count": null,
      "outputs": []
    },
    {
      "cell_type": "markdown",
      "source": [
        "### Creating lists with iterations"
      ],
      "metadata": {
        "id": "Q7i2P6pO7Xd4"
      }
    },
    {
      "cell_type": "code",
      "source": [
        "keywords = [\"Savings\", \"Back-to-School\", \"Holiday Magic\", \"New Year Deals\"]\n",
        "campaigns = []\n",
        "\n",
        "# Create campaign slogans using keywords and append them to the list\n",
        "for keyword in keywords:\n",
        "    slogan = f\"Discover the {keyword}!\"\n",
        "    campaigns.append(slogan)\n",
        "\n",
        "# Print the list of campaign slogans\n",
        "print(\"List of Campaign Slogans:\")\n",
        "for slogan in campaigns:\n",
        "    print(slogan)\n",
        "\n",
        "\n",
        "# using list comprehensions\n",
        "keywords = [\"Savings\", \"Back-to-School\", \"Holiday Magic\", \"New Year Deals\"]\n",
        "\n",
        "# Create campaign slogans using list comprehension\n",
        "campaigns = [f\"Discover the {keyword}!\" for keyword in keywords]\n",
        "\n",
        "# Print the list of campaign slogans\n",
        "print(\"List of Campaign Slogans:\")\n",
        "for slogan in campaigns:\n",
        "    print(slogan)"
      ],
      "metadata": {
        "id": "B6T_KCvb7lnT"
      },
      "execution_count": null,
      "outputs": []
    },
    {
      "cell_type": "markdown",
      "source": [
        "# Functions\n",
        "\n",
        "A function is a block of organized, reusable code that performs a specific task. Functions allow you to break down your program into smaller, manageable pieces, making your code more modular, readable, and maintainable.\n",
        "\n",
        "You can define your own functions or use built-in functions that Python provides.\n",
        "\n",
        "Functions are used to encapsulate a set of instructions and can be called multiple times from different parts of your program, eliminating the need to rewrite the same code.\n",
        "\n",
        "They play a crucial role in promoting code reusability and following the DRY (Don't Repeat Yourself) principle.\n",
        "\n",
        "\n",
        "\n",
        "```\n",
        "# syntax\n",
        "# Declaring a function\n",
        "def function_name():\n",
        "    codes\n",
        "    codes\n",
        "# Calling a function\n",
        "function_name()\n",
        "```\n",
        "\n",
        "Functions are used whenever you need to perform a specific task or calculation multiple times within your program. Common use cases for functions include:\n",
        "\n",
        "- Encapsulating a specific operation or computation.\n",
        "- Promoting code reusability to avoid redundancy.\n",
        "- Improving code organization and readability.\n",
        "- Implementing modular and maintainable code.\n",
        "- Separating concerns to make code easier to test and debug."
      ],
      "metadata": {
        "id": "1QbhLzU2DGhO"
      }
    },
    {
      "cell_type": "code",
      "source": [
        "# functions without arguments w/o return\n",
        "def generate_greeting():\n",
        "    print(\"Thank you for using our service!\")\n",
        "\n",
        "# Call the function and print the greeting\n",
        "greeting = generate_greeting()\n",
        "\n",
        "# functions with arguments w return\n",
        "def calculate_total_cost(item_price, quantity):\n",
        "    total_cost = item_price * quantity\n",
        "    return total_cost\n",
        "\n",
        "# Calculate and display the total cost\n",
        "total_cost = calculate_total_cost(100, 2)\n",
        "print(f\"Total cost is {total_cost}\")\n",
        "\n",
        "# a function with an argument having a default value\n",
        "def send_promotional_email(customer_name, discount=10):\n",
        "    message = f\"Hello {customer_name},\\nEnjoy our {discount}% discount on your next purchase!\\nVisit our website and start shopping.\\n\"\n",
        "    return message\n",
        "\n",
        "# Call the function with default discount and print the email message\n",
        "email_message = send_promotional_email(\"Pallav\")\n",
        "print(\"Promotional Email:\\n\")\n",
        "print(email_message)\n",
        "\n",
        "# Function with optional parameter\n",
        "def generate_product_description(product_name, price, discount = None):\n",
        "    description = f\"Introducing our new product: {product_name}\\nPrice: ${price}\\n\"\n",
        "    if discount is not None:\n",
        "        discounted_price = price - (price * discount / 100)\n",
        "        description += f\"Special offer: {discount}% off! Now only ${discounted_price:.2f}\\n\"\n",
        "    return description\n",
        "\n",
        "# Call the function without a discount and print the product description\n",
        "description_without_discount = generate_product_description(product_name = \"Whole Milk\", price = 3.25)\n",
        "print(\"Product Description (Without Discount):\\n\")\n",
        "print(description_without_discount)\n",
        "\n",
        "# Call the function with a discount and print the updated product description\n",
        "description_with_discount = generate_product_description(product_name = \"Whole Milk\", price = 3.25, discount = 10)\n",
        "print(\"\\nProduct Description (With Discount):\\n\")\n",
        "print(description_with_discount)\n",
        "\n",
        "# function with arbitrary number of parameters\n",
        "def generate_thank_you_message(*customer_names):\n",
        "    message = \"Thank you to our valued customers:\\n\"\n",
        "    for name in customer_names:\n",
        "        message += f\"- {name}\\n\"\n",
        "    message += \"We appreciate your business and loyalty!\"\n",
        "    return message\n",
        "\n",
        "names = [\"Alice\", \"Bob\", \"Charlie\", \"David\", \"Eve\"]\n",
        "\n",
        "# Call the function with arbitrary number of customer names and print the thank-you message\n",
        "thank_you_message = generate_thank_you_message(*names)\n",
        "print(\"\\nThank-You Message:\\n\")\n",
        "print(thank_you_message)\n",
        "\n",
        "# lambda function\n",
        "calculate_total_cost = lambda price, quantity: price * quantity\n",
        "\n",
        "# Calculate and display the total cost using the lambda function\n",
        "total_cost = calculate_total_cost(10.11, 100)\n",
        "print(f\"Total cost is: ${total_cost:.2f}\")"
      ],
      "metadata": {
        "id": "g8iO1ENCDvmG"
      },
      "execution_count": null,
      "outputs": []
    },
    {
      "cell_type": "markdown",
      "source": [
        "# Python classes and objects\n",
        "\n",
        "A class is a blueprint or a template for creating objects. Objects are instances of classes, and classes define the properties (attributes) and behaviors (methods) that these objects will have.\n",
        "\n",
        "Classes provide a structured way to model real-world concepts, encapsulate data and functionality, and promote code organization and reusability.\n",
        "\n",
        "**Attributes:** Attributes are variables that store data related to the class. They define the characteristics of the objects created from the class.\n",
        "\n",
        "**Methods:** Methods are functions defined within a class that represent the actions or behaviors that objects of the class can perform.\n",
        "\n",
        "**Constructor (__init__ method):** The constructor is a special method that initializes the attributes of an object when it is created.\n",
        "\n",
        "**Instance:** An instance is a specific object created from a class. Each instance can have its own unique attribute values.\n",
        "\n",
        "**Self keyword:** The self keyword (in Python) refers to the instance of the class that is currently being manipulated or accessed. It's a reference to the object itself. When you create a method within a class, you use the self parameter to refer to the instance of the class that the method is associated with."
      ],
      "metadata": {
        "id": "ic6riDgbKt_3"
      }
    },
    {
      "cell_type": "code",
      "source": [
        "# a simple example\n",
        "class Customer:\n",
        "   # constructor class\n",
        "    def __init__(self, name, email, age, income):\n",
        "        # self.name and self.age refer to the name and age attributes of the specific instance of the Customer class.\n",
        "        # without self, you wouldn't be able to access or modify instance-specific data.\n",
        "        self.name = name\n",
        "        self.email = email\n",
        "        self.age = age\n",
        "        self.income = income\n",
        "        self.subscriptions = []\n",
        "\n",
        "    def subscribe_to_newsletter(self, newsletter_name):\n",
        "        self.subscriptions.append(newsletter_name)\n",
        "        print(f\"Subscribed {self.name} to {newsletter_name} newsletter.\")\n",
        "\n",
        "    def show_subscriptions(self):\n",
        "        if self.subscriptions:\n",
        "            print(f\"{self.name}'s Subscriptions:\")\n",
        "            for subscription in self.subscriptions:\n",
        "                print(\"-\", subscription)\n",
        "        else:\n",
        "            print(f\"{self.name} is not subscribed to any newsletters.\")\n",
        "\n",
        "# Creating an instance of the Customer class aka an object\n",
        "customer = Customer(\"Alice Smith\", \"alice@example.com\", 30, 60000)\n",
        "\n",
        "# Interacting with the customer's subscriptions\n",
        "customer.subscribe_to_newsletter(\"Fashion Weekly\")\n",
        "customer.subscribe_to_newsletter(\"Tech Insights\")\n",
        "customer.show_subscriptions()\n"
      ],
      "metadata": {
        "id": "2j6l8J3fSdme"
      },
      "execution_count": null,
      "outputs": []
    },
    {
      "cell_type": "markdown",
      "source": [
        "When to create classes:\n",
        "\n",
        "1. Modeling Real-World Entities: Classes are particularly useful when you need to model and represent real-world entities, such as customers, products, employees, or vehicles, in your code.\n",
        "\n",
        "2. Code Organization: Classes help organize your code into logical units, making it easier to manage and maintain.\n",
        "Code Reusability: By creating classes, you can define common attributes and behaviors once and reuse them across multiple instances.\n",
        "\n",
        "3. Modularity: Classes promote modularity by encapsulating related data and methods in a single unit, improving code organization and readability.\n",
        "\n",
        "4. Custom Data Types: If you need a custom data type with specific attributes and behaviors, creating a class is a natural choice."
      ],
      "metadata": {
        "id": "-91X8XQLTrZO"
      }
    },
    {
      "cell_type": "markdown",
      "source": [
        "# Errors and exception handling\n",
        "\n",
        "Errors are unexpected or exceptional situations that occur during the execution of a program, causing the program to behave in an unintended or incorrect way.\n",
        "\n",
        "Errors are also commonly referred to as \"exceptions.\" When an error occurs, Python raises an exception, which is a special type of object that represents the error and provides information about what went wrong.\n",
        "\n"
      ],
      "metadata": {
        "id": "FEHfd_7oWIQG"
      }
    },
    {
      "cell_type": "code",
      "source": [
        "# syntax error\n",
        "# print(\"Hello World\"\n",
        "\n",
        "# name error\n",
        "x = 5\n",
        "print(y)\n",
        "\n",
        "# type error\n",
        "x = \"5\"\n",
        "y = 10\n",
        "result = x + y\n",
        "\n",
        "# value error\n",
        "num = int(\"hello\")"
      ],
      "metadata": {
        "id": "NwMz3e8_XqKd"
      },
      "execution_count": null,
      "outputs": []
    },
    {
      "cell_type": "markdown",
      "source": [
        "Exception handling in Python refers to the process of gracefully handling and managing runtime errors or exceptional situations that may occur during the execution of a program.\n",
        "\n",
        "Python provides a mechanism to catch, handle, and recover from these errors, allowing your program to continue running without abruptly crashing.\n",
        "\n",
        "Python's exception handling mechanism involves the use of try, except, else, and finally blocks:\n",
        "\n",
        "- `try`: Encloses the code that might raise an exception.\n",
        "- `except`: Catches and handles exceptions that occur in the try block.\n",
        "- `else`: Executes if no exceptions were raised in the try block.\n",
        "- `finally`: Executes regardless of whether an exception was raised or not, commonly used for cleanup tasks."
      ],
      "metadata": {
        "id": "69X9V8B_XoyR"
      }
    },
    {
      "cell_type": "code",
      "source": [
        "try:\n",
        "    budget = float(input(\"Enter your marketing budget: $\"))\n",
        "    if budget < 0:\n",
        "        raise ValueError(\"Budget cannot be negative.\")\n",
        "\n",
        "    cost_per_campaign = 5000\n",
        "    num_campaigns = budget // cost_per_campaign\n",
        "    print(f\"You can run {int(num_campaigns)} marketing campaigns.\")\n",
        "except ValueError as ve:\n",
        "    print(f\"Error: {ve}\")"
      ],
      "metadata": {
        "id": "LVRI1-CGT_IM"
      },
      "execution_count": null,
      "outputs": []
    }
  ]
}